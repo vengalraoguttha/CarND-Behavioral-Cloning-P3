{
 "cells": [
  {
   "cell_type": "code",
   "execution_count": 5,
   "metadata": {},
   "outputs": [
    {
     "name": "stdout",
     "output_type": "stream",
     "text": [
      "Train on 10624 samples, validate on 560 samples\n",
      "Epoch 1/3\n",
      "10624/10624 [==============================] - 521s 49ms/step - loss: 0.1165 - val_loss: 0.1343\n",
      "Epoch 2/3\n",
      "10624/10624 [==============================] - 470s 44ms/step - loss: 0.0700 - val_loss: 0.1420\n",
      "Epoch 3/3\n",
      "10624/10624 [==============================] - 426s 40ms/step - loss: 0.0672 - val_loss: 0.1373\n"
     ]
    }
   ],
   "source": [
    "import csv\n",
    "import cv2\n",
    "import numpy as np\n",
    "\n",
    "lines = []\n",
    "\n",
    "# reading the driving log file.\n",
    "with open('/Users/vengal/Desktop/udacity self driving car nano degree/driving_log.csv') as csvfile:\n",
    "    reader = csv.reader(csvfile)\n",
    "    for line in reader:\n",
    "        lines.append(line)\n",
    "        \n",
    "# images contains input image figures and measurements has values of steering angle\n",
    "images = []\n",
    "measurements = []\n",
    "# correction used for estimating angles from left and right imgae\n",
    "correction = 0.2\n",
    "for line in lines:\n",
    "    source_path_center = line[0]\n",
    "    source_path_left =  line[1]\n",
    "    source_path_right = line[2]\n",
    "    image_center = cv2.imread(source_path_center)\n",
    "    image_left = cv2.imread(source_path_left)\n",
    "    image_right = cv2.imread(source_path_right)\n",
    "    images.append(image_center)\n",
    "    images.append(image_left)\n",
    "    images.append(image_right)\n",
    "    measurements.append(float(line[3]))\n",
    "    measurements.append(float(line[3])+correction)\n",
    "    measurements.append(float(line[3])-correction)\n",
    "    \n",
    "agumented_images = []\n",
    "agumented_measurements = []\n",
    "\n",
    "# fliping the images and steering angle values and appending to data, so that more robust model\n",
    "# can be trained with more data\n",
    "for image, measurement in zip(images,measurements):\n",
    "    agumented_images.append(image)\n",
    "    agumented_images.append(cv2.flip(image,1))\n",
    "    agumented_measurements.append(measurement)\n",
    "    agumented_measurements.append(measurement*-1.0)\n",
    "    \n",
    "X_train = np.array(agumented_images)\n",
    "Y_train = np.array(agumented_measurements)\n",
    "\n",
    "from keras.models import Sequential\n",
    "from keras.layers import Flatten,Dense,Lambda,Cropping2D,Dropout\n",
    "from keras import layers\n",
    "\n",
    "# below is the cnn used along with dropouts\n",
    "model = Sequential()\n",
    "model.add(Lambda(lambda x: (x / 255.0) - 0.5, input_shape=(160,320,3)))\n",
    "model.add(Cropping2D(cropping=((70,25), (0,0))))\n",
    "model.add(layers.Conv2D(filters=24, kernel_size=(5, 5), activation='relu'))\n",
    "model.add(layers.MaxPooling2D())\n",
    "model.add(Dropout(0.5))\n",
    "model.add(layers.Conv2D(filters=36, kernel_size=(5, 5), activation='relu'))\n",
    "model.add(layers.MaxPooling2D())\n",
    "model.add(Dropout(0.5))\n",
    "model.add(layers.Conv2D(filters=48, kernel_size=(5, 5), activation='relu'))\n",
    "model.add(layers.MaxPooling2D())\n",
    "model.add(Dropout(0.5))\n",
    "model.add(layers.Conv2D(filters=64, kernel_size=(3, 3)))\n",
    "model.add(layers.Flatten())\n",
    "model.add(layers.Dense(units=100))\n",
    "model.add(Dropout(0.5))\n",
    "model.add(layers.Dense(units=50))\n",
    "model.add(Dropout(0.5))\n",
    "model.add(layers.Dense(units=10))\n",
    "model.add(Dropout(0.5))\n",
    "model.add(layers.Dense(units=1))\n",
    "#using adam optimizer\n",
    "model.compile(loss='mse',optimizer='adam')\n",
    "# traing and validating using 5% of data\n",
    "model.fit(X_train,Y_train,validation_split=0.05,shuffle=True,epochs=3)\n",
    "# saving the model\n",
    "model.save('model.h5')"
   ]
  },
  {
   "cell_type": "code",
   "execution_count": null,
   "metadata": {},
   "outputs": [],
   "source": []
  },
  {
   "cell_type": "code",
   "execution_count": null,
   "metadata": {},
   "outputs": [],
   "source": []
  }
 ],
 "metadata": {
  "kernelspec": {
   "display_name": "Python 3",
   "language": "python",
   "name": "python3"
  },
  "language_info": {
   "codemirror_mode": {
    "name": "ipython",
    "version": 3
   },
   "file_extension": ".py",
   "mimetype": "text/x-python",
   "name": "python",
   "nbconvert_exporter": "python",
   "pygments_lexer": "ipython3",
   "version": "3.6.7"
  }
 },
 "nbformat": 4,
 "nbformat_minor": 2
}
